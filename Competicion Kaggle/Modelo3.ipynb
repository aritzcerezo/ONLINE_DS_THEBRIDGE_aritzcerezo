{
 "cells": [
  {
   "cell_type": "code",
   "execution_count": 432,
   "metadata": {},
   "outputs": [],
   "source": [
    "import pandas as pd"
   ]
  },
  {
   "cell_type": "code",
   "execution_count": 433,
   "metadata": {},
   "outputs": [],
   "source": [
    "import ToolBox as tb"
   ]
  },
  {
   "cell_type": "code",
   "execution_count": 434,
   "metadata": {},
   "outputs": [
    {
     "data": {
      "text/html": [
       "<div>\n",
       "<style scoped>\n",
       "    .dataframe tbody tr th:only-of-type {\n",
       "        vertical-align: middle;\n",
       "    }\n",
       "\n",
       "    .dataframe tbody tr th {\n",
       "        vertical-align: top;\n",
       "    }\n",
       "\n",
       "    .dataframe thead th {\n",
       "        text-align: right;\n",
       "    }\n",
       "</style>\n",
       "<table border=\"1\" class=\"dataframe\">\n",
       "  <thead>\n",
       "    <tr style=\"text-align: right;\">\n",
       "      <th></th>\n",
       "      <th>id</th>\n",
       "      <th>laptop_ID</th>\n",
       "      <th>Company</th>\n",
       "      <th>Product</th>\n",
       "      <th>TypeName</th>\n",
       "      <th>Inches</th>\n",
       "      <th>ScreenResolution</th>\n",
       "      <th>Cpu</th>\n",
       "      <th>Ram</th>\n",
       "      <th>Memory</th>\n",
       "      <th>Gpu</th>\n",
       "      <th>OpSys</th>\n",
       "      <th>Weight</th>\n",
       "      <th>Price_euros</th>\n",
       "    </tr>\n",
       "  </thead>\n",
       "  <tbody>\n",
       "    <tr>\n",
       "      <th>0</th>\n",
       "      <td>268</td>\n",
       "      <td>1002</td>\n",
       "      <td>Dell</td>\n",
       "      <td>Inspiron 5567</td>\n",
       "      <td>Notebook</td>\n",
       "      <td>15.6</td>\n",
       "      <td>1366x768</td>\n",
       "      <td>Intel Core i7 7500U 2.7GHz</td>\n",
       "      <td>8GB</td>\n",
       "      <td>1TB HDD</td>\n",
       "      <td>AMD Radeon R7 M445</td>\n",
       "      <td>Windows 10</td>\n",
       "      <td>2.36kg</td>\n",
       "      <td>749.00</td>\n",
       "    </tr>\n",
       "    <tr>\n",
       "      <th>1</th>\n",
       "      <td>347</td>\n",
       "      <td>867</td>\n",
       "      <td>Asus</td>\n",
       "      <td>X541NA (N4200/4GB/1TB/W10)</td>\n",
       "      <td>Notebook</td>\n",
       "      <td>15.6</td>\n",
       "      <td>1366x768</td>\n",
       "      <td>Intel Pentium Quad Core N4200 1.1GHz</td>\n",
       "      <td>4GB</td>\n",
       "      <td>1TB HDD</td>\n",
       "      <td>Intel HD Graphics 505</td>\n",
       "      <td>Windows 10</td>\n",
       "      <td>2kg</td>\n",
       "      <td>449.00</td>\n",
       "    </tr>\n",
       "    <tr>\n",
       "      <th>2</th>\n",
       "      <td>353</td>\n",
       "      <td>966</td>\n",
       "      <td>Toshiba</td>\n",
       "      <td>Portege Z30-C-1CW</td>\n",
       "      <td>Notebook</td>\n",
       "      <td>13.3</td>\n",
       "      <td>Full HD 1920x1080</td>\n",
       "      <td>Intel Core i5 6200U 2.3GHz</td>\n",
       "      <td>8GB</td>\n",
       "      <td>256GB SSD</td>\n",
       "      <td>Intel HD Graphics 520</td>\n",
       "      <td>Windows 7</td>\n",
       "      <td>1.2kg</td>\n",
       "      <td>1460.00</td>\n",
       "    </tr>\n",
       "    <tr>\n",
       "      <th>3</th>\n",
       "      <td>578</td>\n",
       "      <td>767</td>\n",
       "      <td>Dell</td>\n",
       "      <td>Alienware 17</td>\n",
       "      <td>Gaming</td>\n",
       "      <td>15.6</td>\n",
       "      <td>IPS Panel 4K Ultra HD 3840x2160</td>\n",
       "      <td>Intel Core i7 7700HQ 2.8GHz</td>\n",
       "      <td>16GB</td>\n",
       "      <td>256GB SSD +  1TB HDD</td>\n",
       "      <td>Nvidia GeForce GTX 1070</td>\n",
       "      <td>Windows 10</td>\n",
       "      <td>4.42kg</td>\n",
       "      <td>2868.99</td>\n",
       "    </tr>\n",
       "    <tr>\n",
       "      <th>4</th>\n",
       "      <td>42</td>\n",
       "      <td>1241</td>\n",
       "      <td>Dell</td>\n",
       "      <td>Latitude E7270</td>\n",
       "      <td>Ultrabook</td>\n",
       "      <td>12.5</td>\n",
       "      <td>Full HD / Touchscreen 1920x1080</td>\n",
       "      <td>Intel Core i5 6300U 2.4GHz</td>\n",
       "      <td>8GB</td>\n",
       "      <td>256GB SSD</td>\n",
       "      <td>Intel HD Graphics 520</td>\n",
       "      <td>Windows 7</td>\n",
       "      <td>1.26kg</td>\n",
       "      <td>1713.37</td>\n",
       "    </tr>\n",
       "  </tbody>\n",
       "</table>\n",
       "</div>"
      ],
      "text/plain": [
       "    id  laptop_ID  Company                     Product   TypeName  Inches  \\\n",
       "0  268       1002     Dell               Inspiron 5567   Notebook    15.6   \n",
       "1  347        867     Asus  X541NA (N4200/4GB/1TB/W10)   Notebook    15.6   \n",
       "2  353        966  Toshiba           Portege Z30-C-1CW   Notebook    13.3   \n",
       "3  578        767     Dell                Alienware 17     Gaming    15.6   \n",
       "4   42       1241     Dell              Latitude E7270  Ultrabook    12.5   \n",
       "\n",
       "                  ScreenResolution                                   Cpu  \\\n",
       "0                         1366x768            Intel Core i7 7500U 2.7GHz   \n",
       "1                         1366x768  Intel Pentium Quad Core N4200 1.1GHz   \n",
       "2                Full HD 1920x1080            Intel Core i5 6200U 2.3GHz   \n",
       "3  IPS Panel 4K Ultra HD 3840x2160           Intel Core i7 7700HQ 2.8GHz   \n",
       "4  Full HD / Touchscreen 1920x1080            Intel Core i5 6300U 2.4GHz   \n",
       "\n",
       "    Ram                Memory                      Gpu       OpSys  Weight  \\\n",
       "0   8GB               1TB HDD       AMD Radeon R7 M445  Windows 10  2.36kg   \n",
       "1   4GB               1TB HDD    Intel HD Graphics 505  Windows 10     2kg   \n",
       "2   8GB             256GB SSD    Intel HD Graphics 520   Windows 7   1.2kg   \n",
       "3  16GB  256GB SSD +  1TB HDD  Nvidia GeForce GTX 1070  Windows 10  4.42kg   \n",
       "4   8GB             256GB SSD    Intel HD Graphics 520   Windows 7  1.26kg   \n",
       "\n",
       "   Price_euros  \n",
       "0       749.00  \n",
       "1       449.00  \n",
       "2      1460.00  \n",
       "3      2868.99  \n",
       "4      1713.37  "
      ]
     },
     "execution_count": 434,
     "metadata": {},
     "output_type": "execute_result"
    }
   ],
   "source": [
    "# Cargar el conjunto de datos de entrenamiento\n",
    "train_data = pd.read_csv('./Data/train.csv')\n",
    "\n",
    "# Mostrar los primeros registros del conjunto de datos\n",
    "train_data.head()"
   ]
  },
  {
   "cell_type": "code",
   "execution_count": 435,
   "metadata": {},
   "outputs": [],
   "source": [
    "train_data['Ram'] = train_data['Ram'].str.replace('GB', '').astype(int)"
   ]
  },
  {
   "cell_type": "code",
   "execution_count": 436,
   "metadata": {},
   "outputs": [],
   "source": [
    "train_data['Weight'] = train_data['Weight'].str.replace('kg', '').astype(float)"
   ]
  },
  {
   "cell_type": "code",
   "execution_count": 437,
   "metadata": {},
   "outputs": [],
   "source": [
    "train_data['Memory'] = train_data['Memory'].str.replace('1.0TB', '1000GB', regex=False)\n",
    "train_data['Memory'] = train_data['Memory'].str.replace('2.0TB', '2000GB', regex=False)\n",
    "train_data['Memory'] = train_data['Memory'].str.replace('1.000TB', '1000GB', regex=False)\n",
    "train_data['Memory'] = train_data['Memory'].str.replace('TB', '000GB', regex=False)"
   ]
  },
  {
   "cell_type": "code",
   "execution_count": 438,
   "metadata": {},
   "outputs": [],
   "source": [
    "def extraer_memoria(memory):\n",
    "    ssd, hdd, flash, hybrid = 0, 0, 0, 0\n",
    "    for x in memory.split('+'):\n",
    "        x=x.strip()\n",
    "        if 'SSD' in x:\n",
    "            ssd = int(x.replace('SSD', '').replace('GB', '').strip())\n",
    "        elif 'HDD' in x:\n",
    "           hdd = int(x.replace('HDD', '').replace('GB', '').strip())\n",
    "        elif 'Flash' in x:\n",
    "            flash = int(x.replace('GB', '').replace('Flash Storage','').strip())\n",
    "        elif 'Hybrid' in x:\n",
    "            hybrid = int(x.replace('GB', '').replace('Hybrid','').strip())\n",
    "            \n",
    "            \n",
    "    return pd.Series([ssd, hdd, flash, hybrid])\n",
    "    "
   ]
  },
  {
   "cell_type": "code",
   "execution_count": 439,
   "metadata": {},
   "outputs": [],
   "source": [
    "train_data[['SSD', 'HDD', 'Flash', 'Hybrid']] = train_data['Memory'].apply(extraer_memoria)"
   ]
  },
  {
   "cell_type": "code",
   "execution_count": 440,
   "metadata": {},
   "outputs": [],
   "source": [
    "train_data['Gpu']=train_data['Gpu'].str.strip()"
   ]
  },
  {
   "cell_type": "code",
   "execution_count": 441,
   "metadata": {},
   "outputs": [
    {
     "name": "stdout",
     "output_type": "stream",
     "text": [
      "                       Gpu Gpu_Type\n",
      "0       AMD Radeon R7 M445   Radeon\n",
      "1    Intel HD Graphics 505       HD\n",
      "2    Intel HD Graphics 520       HD\n",
      "3  Nvidia GeForce GTX 1070  GeForce\n",
      "4    Intel HD Graphics 520       HD\n"
     ]
    }
   ],
   "source": [
    "def extraer_gpu(gpu):\n",
    "    if 'Radeon' in gpu or 'Firepro' in gpu:\n",
    "        return 'Radeon' if 'Radeon' in gpu else 'Firepro'\n",
    "    elif 'AMD' in gpu:\n",
    "        return 'Radeon'\n",
    "    elif 'UHD' in gpu or 'Iris' in gpu:\n",
    "        return 'UHD' if 'UHD' in gpu else 'Iris'\n",
    "    elif 'Intel' in gpu:\n",
    "        return 'HD'\n",
    "    elif 'Quadro' in gpu:\n",
    "        return 'Quadro'\n",
    "    elif 'Nvidia' in gpu:\n",
    "        return 'GeForce'\n",
    "\n",
    "train_data['Gpu_Type'] = train_data['Gpu'].apply(extraer_gpu)\n",
    "\n",
    "print(train_data[['Gpu', 'Gpu_Type']].head())\n"
   ]
  },
  {
   "cell_type": "code",
   "execution_count": 442,
   "metadata": {},
   "outputs": [],
   "source": [
    "import re"
   ]
  },
  {
   "cell_type": "code",
   "execution_count": 443,
   "metadata": {},
   "outputs": [],
   "source": [
    "def extraer_cpu(cpu):\n",
    "    tipo = None\n",
    "    tipo2 = None\n",
    "    if 'AMD' in cpu:\n",
    "        tipo = 'AMD'\n",
    "        T = cpu.split()[1]\n",
    "        if 'A' in T:\n",
    "            tipo2 = 'A-Series'\n",
    "        elif 'FX' in T:\n",
    "            tipo2 = 'FX'\n",
    "        elif 'E' in T:\n",
    "            tipo2 = 'E-Series'\n",
    "        elif 'Ryzen' in T:\n",
    "            tipo2 = 'Ryzen'\n",
    "    elif 'Intel' in cpu:\n",
    "        if 'Celeron' in cpu:\n",
    "            tipo = 'Celeron'\n",
    "            if 'Dual' in cpu:\n",
    "                tipo2 = 'Dual'\n",
    "            else:\n",
    "                tipo2 = 'Quad'\n",
    "        elif 'Pentium' in cpu:\n",
    "            tipo = 'Pentium'\n",
    "            if 'Dual' in cpu:\n",
    "                tipo2 = 'Dual'\n",
    "            else:\n",
    "                tipo2 = 'Quad'\n",
    "        elif 'Atom' in cpu:\n",
    "            tipo = 'Atom'\n",
    "            T = cpu.split()[2]\n",
    "            if 'x' in T:\n",
    "                tipo2 = 'X-Series'\n",
    "            else:\n",
    "                tipo2 = 'Z-Series'\n",
    "        elif 'Xeon' in cpu:\n",
    "            tipo = 'Xeon'\n",
    "            tipo2='E-Series'\n",
    "        else:\n",
    "            tipo = cpu.split()[2]\n",
    "            if tipo == 'M':\n",
    "                tipo2 = 'M'\n",
    "            else:\n",
    "                tipo2 = re.search(r'\\d+([A-Za-z])', cpu).group(1) if re.search(r'\\d+([A-Za-z])', cpu) else 'Unknown'\n",
    "    return pd.Series([tipo, tipo2])"
   ]
  },
  {
   "cell_type": "code",
   "execution_count": 444,
   "metadata": {},
   "outputs": [],
   "source": [
    "train_data[['Cpu_Tipo', 'Cpu_Tipo2']]=train_data['Cpu'].apply(extraer_cpu)"
   ]
  },
  {
   "cell_type": "code",
   "execution_count": 445,
   "metadata": {},
   "outputs": [],
   "source": [
    "def extraer_hz_cpu(cpu):\n",
    "    patron = r'(\\d+(\\.\\d+)?)GHz'\n",
    "    return float(re.search(patron, cpu).group(1))"
   ]
  },
  {
   "cell_type": "code",
   "execution_count": 446,
   "metadata": {},
   "outputs": [],
   "source": [
    "train_data['GHz'] = train_data['Cpu'].apply(extraer_hz_cpu)"
   ]
  },
  {
   "cell_type": "code",
   "execution_count": 447,
   "metadata": {},
   "outputs": [],
   "source": [
    "def is_ips(screen_resolution):\n",
    "    return True if 'IPS' in screen_resolution else False "
   ]
  },
  {
   "cell_type": "code",
   "execution_count": 448,
   "metadata": {},
   "outputs": [],
   "source": [
    "def is_touchscreen(screen_resolution):\n",
    "    return True if 'Touchscreen' in screen_resolution else False  "
   ]
  },
  {
   "cell_type": "code",
   "execution_count": 449,
   "metadata": {},
   "outputs": [],
   "source": [
    "train_data['Is_IPS'] = train_data['ScreenResolution'].apply(is_ips)"
   ]
  },
  {
   "cell_type": "code",
   "execution_count": 450,
   "metadata": {},
   "outputs": [],
   "source": [
    "train_data['IS_TouchScreen'] = train_data['ScreenResolution'].apply(is_touchscreen)"
   ]
  },
  {
   "cell_type": "code",
   "execution_count": 451,
   "metadata": {},
   "outputs": [],
   "source": [
    "def get_num_pixels(screen_resolution):\n",
    "    # Buscar el patrón de resolución\n",
    "    match = re.search(r'(\\d+)x(\\d+)', screen_resolution)\n",
    "    if match:\n",
    "        width = int(match.group(1))\n",
    "        height = int(match.group(2))\n",
    "        return width * height\n",
    "    return None"
   ]
  },
  {
   "cell_type": "code",
   "execution_count": 452,
   "metadata": {},
   "outputs": [],
   "source": [
    "train_data['num_pixels']  = train_data['ScreenResolution'].apply(get_num_pixels)"
   ]
  },
  {
   "cell_type": "code",
   "execution_count": 453,
   "metadata": {},
   "outputs": [
    {
     "data": {
      "text/html": [
       "<div>\n",
       "<style scoped>\n",
       "    .dataframe tbody tr th:only-of-type {\n",
       "        vertical-align: middle;\n",
       "    }\n",
       "\n",
       "    .dataframe tbody tr th {\n",
       "        vertical-align: top;\n",
       "    }\n",
       "\n",
       "    .dataframe thead th {\n",
       "        text-align: right;\n",
       "    }\n",
       "</style>\n",
       "<table border=\"1\" class=\"dataframe\">\n",
       "  <thead>\n",
       "    <tr style=\"text-align: right;\">\n",
       "      <th></th>\n",
       "      <th>ScreenResolution</th>\n",
       "      <th>Is_IPS</th>\n",
       "      <th>IS_TouchScreen</th>\n",
       "      <th>num_pixels</th>\n",
       "    </tr>\n",
       "  </thead>\n",
       "  <tbody>\n",
       "    <tr>\n",
       "      <th>0</th>\n",
       "      <td>1366x768</td>\n",
       "      <td>False</td>\n",
       "      <td>False</td>\n",
       "      <td>1049088</td>\n",
       "    </tr>\n",
       "    <tr>\n",
       "      <th>1</th>\n",
       "      <td>1366x768</td>\n",
       "      <td>False</td>\n",
       "      <td>False</td>\n",
       "      <td>1049088</td>\n",
       "    </tr>\n",
       "    <tr>\n",
       "      <th>2</th>\n",
       "      <td>Full HD 1920x1080</td>\n",
       "      <td>False</td>\n",
       "      <td>False</td>\n",
       "      <td>2073600</td>\n",
       "    </tr>\n",
       "    <tr>\n",
       "      <th>3</th>\n",
       "      <td>IPS Panel 4K Ultra HD 3840x2160</td>\n",
       "      <td>True</td>\n",
       "      <td>False</td>\n",
       "      <td>8294400</td>\n",
       "    </tr>\n",
       "    <tr>\n",
       "      <th>4</th>\n",
       "      <td>Full HD / Touchscreen 1920x1080</td>\n",
       "      <td>False</td>\n",
       "      <td>True</td>\n",
       "      <td>2073600</td>\n",
       "    </tr>\n",
       "    <tr>\n",
       "      <th>...</th>\n",
       "      <td>...</td>\n",
       "      <td>...</td>\n",
       "      <td>...</td>\n",
       "      <td>...</td>\n",
       "    </tr>\n",
       "    <tr>\n",
       "      <th>907</th>\n",
       "      <td>IPS Panel Touchscreen 1366x768</td>\n",
       "      <td>True</td>\n",
       "      <td>True</td>\n",
       "      <td>1049088</td>\n",
       "    </tr>\n",
       "    <tr>\n",
       "      <th>908</th>\n",
       "      <td>Full HD 1920x1080</td>\n",
       "      <td>False</td>\n",
       "      <td>False</td>\n",
       "      <td>2073600</td>\n",
       "    </tr>\n",
       "    <tr>\n",
       "      <th>909</th>\n",
       "      <td>1366x768</td>\n",
       "      <td>False</td>\n",
       "      <td>False</td>\n",
       "      <td>1049088</td>\n",
       "    </tr>\n",
       "    <tr>\n",
       "      <th>910</th>\n",
       "      <td>Full HD 1920x1080</td>\n",
       "      <td>False</td>\n",
       "      <td>False</td>\n",
       "      <td>2073600</td>\n",
       "    </tr>\n",
       "    <tr>\n",
       "      <th>911</th>\n",
       "      <td>1366x768</td>\n",
       "      <td>False</td>\n",
       "      <td>False</td>\n",
       "      <td>1049088</td>\n",
       "    </tr>\n",
       "  </tbody>\n",
       "</table>\n",
       "<p>912 rows × 4 columns</p>\n",
       "</div>"
      ],
      "text/plain": [
       "                    ScreenResolution  Is_IPS  IS_TouchScreen  num_pixels\n",
       "0                           1366x768   False           False     1049088\n",
       "1                           1366x768   False           False     1049088\n",
       "2                  Full HD 1920x1080   False           False     2073600\n",
       "3    IPS Panel 4K Ultra HD 3840x2160    True           False     8294400\n",
       "4    Full HD / Touchscreen 1920x1080   False            True     2073600\n",
       "..                               ...     ...             ...         ...\n",
       "907   IPS Panel Touchscreen 1366x768    True            True     1049088\n",
       "908                Full HD 1920x1080   False           False     2073600\n",
       "909                         1366x768   False           False     1049088\n",
       "910                Full HD 1920x1080   False           False     2073600\n",
       "911                         1366x768   False           False     1049088\n",
       "\n",
       "[912 rows x 4 columns]"
      ]
     },
     "execution_count": 453,
     "metadata": {},
     "output_type": "execute_result"
    }
   ],
   "source": [
    "train_data[['ScreenResolution','Is_IPS','IS_TouchScreen','num_pixels']]"
   ]
  },
  {
   "cell_type": "code",
   "execution_count": 454,
   "metadata": {},
   "outputs": [],
   "source": [
    "gpu_dummies = pd.get_dummies(train_data['Gpu_Type'], prefix='Gpu_Type')\n",
    "train_data = pd.concat([train_data, gpu_dummies], axis=1)\n",
    "train_data = train_data.drop(columns=['Gpu', 'Gpu_Type'])"
   ]
  },
  {
   "cell_type": "code",
   "execution_count": 455,
   "metadata": {},
   "outputs": [],
   "source": [
    "cpu_tipo_dummies = pd.get_dummies(train_data['Cpu_Tipo'], prefix='Cpu_Tipo')\n",
    "cpu_tipo2_dummies = pd.get_dummies(train_data['Cpu_Tipo2'], prefix='Cpu_Tipo2')\n",
    "train_data = pd.concat([train_data, cpu_tipo_dummies, cpu_tipo2_dummies], axis=1)\n",
    "train_data = train_data.drop(columns=['Cpu', 'Cpu_Tipo', 'Cpu_Tipo2'])"
   ]
  },
  {
   "cell_type": "code",
   "execution_count": 456,
   "metadata": {},
   "outputs": [],
   "source": [
    "train_data['OpSys'] = train_data['OpSys'].str.replace('10 S', '10').astype(str)"
   ]
  },
  {
   "cell_type": "code",
   "execution_count": 457,
   "metadata": {},
   "outputs": [],
   "source": [
    "OpSys_dummies = pd.get_dummies(train_data['OpSys'], prefix='OpSys')\n",
    "train_data = pd.concat([train_data, OpSys_dummies], axis=1)\n",
    "train_data = train_data.drop(columns=['OpSys'])"
   ]
  },
  {
   "cell_type": "code",
   "execution_count": 458,
   "metadata": {},
   "outputs": [],
   "source": [
    "Company_dummies = pd.get_dummies(train_data['Company'], prefix='Company')\n",
    "train_data = pd.concat([train_data, Company_dummies], axis=1)\n",
    "train_data = train_data.drop(columns=['Company'])"
   ]
  },
  {
   "cell_type": "code",
   "execution_count": 459,
   "metadata": {},
   "outputs": [],
   "source": [
    "TypeName_dummies = pd.get_dummies(train_data['TypeName'], prefix='TypeName')\n",
    "train_data = pd.concat([train_data, TypeName_dummies], axis=1)\n",
    "train_data = train_data.drop(columns=['TypeName'])"
   ]
  },
  {
   "cell_type": "code",
   "execution_count": 460,
   "metadata": {},
   "outputs": [],
   "source": [
    "features = ['Inches','Ram', 'Weight', 'SSD', 'HDD', 'Flash', 'Hybrid', 'Is_IPS', 'num_pixels', 'IS_TouchScreen','GHz']\n",
    "features += [col for col in train_data.columns if col.startswith('Gpu_Type_')]\n",
    "features += [col for col in train_data.columns if col.startswith('Cpu_Tipo_')]\n",
    "features += [col for col in train_data.columns if col.startswith('OpSys')]\n",
    "features += [col for col in train_data.columns if col.startswith('Company')]\n",
    "features += [col for col in train_data.columns if col.startswith('TypeName')]"
   ]
  },
  {
   "cell_type": "code",
   "execution_count": 461,
   "metadata": {},
   "outputs": [],
   "source": [
    "import matplotlib.pyplot as plt"
   ]
  },
  {
   "cell_type": "code",
   "execution_count": 462,
   "metadata": {},
   "outputs": [
    {
     "data": {
      "image/png": "[encoded data removed]",
      "text/plain": [
       "<Figure size 640x480 with 1 Axes>"
      ]
     },
     "metadata": {},
     "output_type": "display_data"
    }
   ],
   "source": [
    "plt.plot(train_data['HDD'], train_data['Price_euros'], 'o', markersize=5)  # 'o' indica que se utilicen puntos para los puntos de datos\n",
    "plt.title('Relación entre RAM y Precio en euros')\n",
    "plt.xlabel('RAM (GB)')\n",
    "plt.ylabel('Precio (euros)')\n",
    "plt.grid(True)  # Añade una cuadrícula al gráfico\n",
    "plt.show()"
   ]
  },
  {
   "cell_type": "code",
   "execution_count": 463,
   "metadata": {},
   "outputs": [],
   "source": [
    "Ram_dummies = pd.get_dummies(train_data['Ram'], prefix='Ram')\n",
    "train_data = pd.concat([train_data, Ram_dummies], axis=1)\n",
    "train_data = train_data.drop(columns=['Ram'])"
   ]
  },
  {
   "cell_type": "code",
   "execution_count": 464,
   "metadata": {},
   "outputs": [],
   "source": [
    "features += [col for col in train_data.columns if col.startswith('Ram')]"
   ]
  },
  {
   "cell_type": "markdown",
   "metadata": {},
   "source": [
    "# Test"
   ]
  },
  {
   "cell_type": "code",
   "execution_count": 465,
   "metadata": {},
   "outputs": [],
   "source": [
    "# Cargar el conjunto de datos de prueba\n",
    "test_data = pd.read_csv('./Data/test.csv')"
   ]
  },
  {
   "cell_type": "code",
   "execution_count": 466,
   "metadata": {},
   "outputs": [
    {
     "data": {
      "text/html": [
       "<div>\n",
       "<style scoped>\n",
       "    .dataframe tbody tr th:only-of-type {\n",
       "        vertical-align: middle;\n",
       "    }\n",
       "\n",
       "    .dataframe tbody tr th {\n",
       "        vertical-align: top;\n",
       "    }\n",
       "\n",
       "    .dataframe thead th {\n",
       "        text-align: right;\n",
       "    }\n",
       "</style>\n",
       "<table border=\"1\" class=\"dataframe\">\n",
       "  <thead>\n",
       "    <tr style=\"text-align: right;\">\n",
       "      <th></th>\n",
       "      <th>id</th>\n",
       "      <th>laptop_ID</th>\n",
       "      <th>Company</th>\n",
       "      <th>Product</th>\n",
       "      <th>TypeName</th>\n",
       "      <th>Inches</th>\n",
       "      <th>ScreenResolution</th>\n",
       "      <th>Cpu</th>\n",
       "      <th>Ram</th>\n",
       "      <th>Memory</th>\n",
       "      <th>Gpu</th>\n",
       "      <th>OpSys</th>\n",
       "      <th>Weight</th>\n",
       "    </tr>\n",
       "  </thead>\n",
       "  <tbody>\n",
       "    <tr>\n",
       "      <th>0</th>\n",
       "      <td>181</td>\n",
       "      <td>1098</td>\n",
       "      <td>HP</td>\n",
       "      <td>Spectre x360</td>\n",
       "      <td>Ultrabook</td>\n",
       "      <td>13.3</td>\n",
       "      <td>IPS Panel 4K Ultra HD 3840x2160</td>\n",
       "      <td>Intel Core i7 7500U 2.7GHz</td>\n",
       "      <td>16GB</td>\n",
       "      <td>512GB SSD</td>\n",
       "      <td>Intel HD Graphics 620</td>\n",
       "      <td>Windows 10</td>\n",
       "      <td>1.3kg</td>\n",
       "    </tr>\n",
       "    <tr>\n",
       "      <th>1</th>\n",
       "      <td>708</td>\n",
       "      <td>330</td>\n",
       "      <td>Acer</td>\n",
       "      <td>Aspire 5</td>\n",
       "      <td>Notebook</td>\n",
       "      <td>15.6</td>\n",
       "      <td>1366x768</td>\n",
       "      <td>AMD A12-Series 9720P 2.7GHz</td>\n",
       "      <td>8GB</td>\n",
       "      <td>256GB SSD</td>\n",
       "      <td>AMD Radeon RX 540</td>\n",
       "      <td>Windows 10</td>\n",
       "      <td>2.2kg</td>\n",
       "    </tr>\n",
       "    <tr>\n",
       "      <th>2</th>\n",
       "      <td>862</td>\n",
       "      <td>1260</td>\n",
       "      <td>Acer</td>\n",
       "      <td>Aspire ES1-572</td>\n",
       "      <td>Notebook</td>\n",
       "      <td>15.6</td>\n",
       "      <td>1366x768</td>\n",
       "      <td>Intel Core i3 6006U 2.0GHz</td>\n",
       "      <td>4GB</td>\n",
       "      <td>500GB HDD</td>\n",
       "      <td>Intel HD Graphics 520</td>\n",
       "      <td>Linux</td>\n",
       "      <td>2.4kg</td>\n",
       "    </tr>\n",
       "    <tr>\n",
       "      <th>3</th>\n",
       "      <td>1064</td>\n",
       "      <td>1137</td>\n",
       "      <td>HP</td>\n",
       "      <td>EliteBook 1040</td>\n",
       "      <td>Notebook</td>\n",
       "      <td>14.0</td>\n",
       "      <td>Full HD 1920x1080</td>\n",
       "      <td>Intel Core i5 6200U 2.3GHz</td>\n",
       "      <td>8GB</td>\n",
       "      <td>256GB SSD</td>\n",
       "      <td>Intel HD Graphics 520</td>\n",
       "      <td>Windows 7</td>\n",
       "      <td>1.43kg</td>\n",
       "    </tr>\n",
       "    <tr>\n",
       "      <th>4</th>\n",
       "      <td>702</td>\n",
       "      <td>1015</td>\n",
       "      <td>HP</td>\n",
       "      <td>ENVY -</td>\n",
       "      <td>Notebook</td>\n",
       "      <td>13.3</td>\n",
       "      <td>IPS Panel Full HD 1920x1080</td>\n",
       "      <td>Intel Core i5 7200U 2.5GHz</td>\n",
       "      <td>8GB</td>\n",
       "      <td>256GB SSD</td>\n",
       "      <td>Intel HD Graphics 620</td>\n",
       "      <td>Windows 10</td>\n",
       "      <td>1.34kg</td>\n",
       "    </tr>\n",
       "  </tbody>\n",
       "</table>\n",
       "</div>"
      ],
      "text/plain": [
       "     id  laptop_ID Company         Product   TypeName  Inches  \\\n",
       "0   181       1098      HP    Spectre x360  Ultrabook    13.3   \n",
       "1   708        330    Acer        Aspire 5   Notebook    15.6   \n",
       "2   862       1260    Acer  Aspire ES1-572   Notebook    15.6   \n",
       "3  1064       1137      HP  EliteBook 1040   Notebook    14.0   \n",
       "4   702       1015      HP          ENVY -   Notebook    13.3   \n",
       "\n",
       "                  ScreenResolution                          Cpu   Ram  \\\n",
       "0  IPS Panel 4K Ultra HD 3840x2160   Intel Core i7 7500U 2.7GHz  16GB   \n",
       "1                         1366x768  AMD A12-Series 9720P 2.7GHz   8GB   \n",
       "2                         1366x768   Intel Core i3 6006U 2.0GHz   4GB   \n",
       "3                Full HD 1920x1080   Intel Core i5 6200U 2.3GHz   8GB   \n",
       "4      IPS Panel Full HD 1920x1080   Intel Core i5 7200U 2.5GHz   8GB   \n",
       "\n",
       "      Memory                    Gpu       OpSys  Weight  \n",
       "0  512GB SSD  Intel HD Graphics 620  Windows 10   1.3kg  \n",
       "1  256GB SSD      AMD Radeon RX 540  Windows 10   2.2kg  \n",
       "2  500GB HDD  Intel HD Graphics 520       Linux   2.4kg  \n",
       "3  256GB SSD  Intel HD Graphics 520   Windows 7  1.43kg  \n",
       "4  256GB SSD  Intel HD Graphics 620  Windows 10  1.34kg  "
      ]
     },
     "execution_count": 466,
     "metadata": {},
     "output_type": "execute_result"
    }
   ],
   "source": [
    "test_data.head()"
   ]
  },
  {
   "cell_type": "code",
   "execution_count": 467,
   "metadata": {},
   "outputs": [],
   "source": [
    "test_data['Ram'] = test_data['Ram'].str.replace('GB', '').astype(int)    "
   ]
  },
  {
   "cell_type": "code",
   "execution_count": 468,
   "metadata": {},
   "outputs": [
    {
     "data": {
      "text/plain": [
       "array([16,  8,  4, 64, 12,  6, 32,  2, 24])"
      ]
     },
     "execution_count": 468,
     "metadata": {},
     "output_type": "execute_result"
    }
   ],
   "source": [
    "test_data['Ram'].unique()"
   ]
  },
  {
   "cell_type": "code",
   "execution_count": 469,
   "metadata": {},
   "outputs": [],
   "source": [
    "test_data['Weight'] = test_data['Weight'].str.replace('kg', '').astype(float)"
   ]
  },
  {
   "cell_type": "code",
   "execution_count": 470,
   "metadata": {},
   "outputs": [],
   "source": [
    "test_data['Memory'] = test_data['Memory'].str.replace('1.0TB', '1000GB', regex=False)\n",
    "test_data['Memory'] = test_data['Memory'].str.replace('2.0TB', '2000GB', regex=False)\n",
    "test_data['Memory'] = test_data['Memory'].str.replace('1.000TB', '1000GB', regex=False)\n",
    "test_data['Memory'] = test_data['Memory'].str.replace('TB', '000GB', regex=False)"
   ]
  },
  {
   "cell_type": "code",
   "execution_count": 471,
   "metadata": {},
   "outputs": [],
   "source": [
    "test_data[['SSD', 'HDD', 'Flash', 'Hybrid']] = test_data['Memory'].apply(extraer_memoria)\n",
    "test_data['Gpu'] = test_data['Gpu'].str.strip()"
   ]
  },
  {
   "cell_type": "code",
   "execution_count": 472,
   "metadata": {},
   "outputs": [],
   "source": [
    "test_data['Gpu_Type'] = test_data['Gpu'].apply(extraer_gpu)"
   ]
  },
  {
   "cell_type": "code",
   "execution_count": 473,
   "metadata": {},
   "outputs": [],
   "source": [
    "test_data[['Cpu_Tipo', 'Cpu_Tipo2']] = test_data['Cpu'].apply(extraer_cpu)"
   ]
  },
  {
   "cell_type": "code",
   "execution_count": 474,
   "metadata": {},
   "outputs": [],
   "source": [
    "test_data['GHz'] = test_data['Cpu'].apply(extraer_hz_cpu)"
   ]
  },
  {
   "cell_type": "code",
   "execution_count": 475,
   "metadata": {},
   "outputs": [],
   "source": [
    "test_data['Is_IPS'] = test_data['ScreenResolution'].apply(is_ips)\n",
    "test_data['IS_TouchScreen'] = test_data['ScreenResolution'].apply(is_touchscreen)"
   ]
  },
  {
   "cell_type": "code",
   "execution_count": 476,
   "metadata": {},
   "outputs": [],
   "source": [
    "test_data['num_pixels'] = test_data['ScreenResolution'].apply(get_num_pixels)\n",
    "\n",
    "gpu_dummies_test = pd.get_dummies(test_data['Gpu_Type'], prefix='Gpu_Type')\n",
    "test_data = pd.concat([test_data, gpu_dummies_test], axis=1)\n",
    "test_data = test_data.drop(columns=['Gpu', 'Gpu_Type'])\n",
    "\n",
    "cpu_tipo_dummies_test = pd.get_dummies(test_data['Cpu_Tipo'], prefix='Cpu_Tipo')\n",
    "cpu_tipo2_dummies_test = pd.get_dummies(test_data['Cpu_Tipo2'], prefix='Cpu_Tipo2')\n",
    "test_data = pd.concat([test_data, cpu_tipo_dummies_test, cpu_tipo2_dummies_test], axis=1)\n",
    "test_data = test_data.drop(columns=['Cpu', 'Cpu_Tipo', 'Cpu_Tipo2'])\n",
    "\n",
    "test_data['OpSys'] = test_data['OpSys'].str.replace('10 S', '10').astype(str)\n",
    "\n",
    "OpSys_dummies_test = pd.get_dummies(test_data['OpSys'], prefix='OpSys')\n",
    "test_data = pd.concat([test_data, OpSys_dummies_test], axis=1)\n",
    "test_data = test_data.drop(columns=['OpSys'])\n",
    "\n",
    "Company_dummies_test = pd.get_dummies(test_data['Company'], prefix='Company')\n",
    "test_data = pd.concat([test_data, Company_dummies_test], axis=1)\n",
    "test_data = test_data.drop(columns=['Company'])\n",
    "\n",
    "TypeName_dummies_test = pd.get_dummies(test_data['TypeName'], prefix='TypeName')\n",
    "test_data = pd.concat([test_data, TypeName_dummies_test], axis=1)\n",
    "test_data = test_data.drop(columns=['TypeName'])"
   ]
  },
  {
   "cell_type": "code",
   "execution_count": 477,
   "metadata": {},
   "outputs": [],
   "source": [
    "features_test = ['Inches', 'Weight', 'SSD', 'HDD', 'Flash', 'Hybrid', 'Is_IPS', 'num_pixels', 'IS_TouchScreen','GHz']\n",
    "features_test += [col for col in test_data.columns if col.startswith('Gpu_Type_')]\n",
    "features_test += [col for col in test_data.columns if col.startswith('Cpu_Tipo_')]\n",
    "features_test += [col for col in test_data.columns if col.startswith('OpSys')]\n",
    "features_test += [col for col in test_data.columns if col.startswith('Company')]\n",
    "features_test += [col for col in test_data.columns if col.startswith('TypeName')]"
   ]
  },
  {
   "cell_type": "code",
   "execution_count": 478,
   "metadata": {},
   "outputs": [],
   "source": [
    "Ram_dummies = pd.get_dummies(test_data['Ram'], prefix='Ram')\n",
    "test_data = pd.concat([test_data, Ram_dummies], axis=1)\n",
    "test_data = test_data.drop(columns=['Ram'])"
   ]
  },
  {
   "cell_type": "code",
   "execution_count": 479,
   "metadata": {},
   "outputs": [],
   "source": [
    "features_test += [col for col in test_data.columns if col.startswith('Ram')]"
   ]
  },
  {
   "cell_type": "code",
   "execution_count": null,
   "metadata": {},
   "outputs": [],
   "source": []
  },
  {
   "cell_type": "markdown",
   "metadata": {},
   "source": [
    "# Selección de modelo"
   ]
  },
  {
   "cell_type": "code",
   "execution_count": 480,
   "metadata": {},
   "outputs": [],
   "source": [
    "from sklearn.model_selection import train_test_split\n",
    "from sklearn.linear_model import LinearRegression\n",
    "from sklearn.metrics import mean_absolute_error\n",
    "from sklearn.preprocessing import StandardScaler"
   ]
  },
  {
   "cell_type": "code",
   "execution_count": 481,
   "metadata": {},
   "outputs": [],
   "source": [
    "features_train=features"
   ]
  },
  {
   "cell_type": "code",
   "execution_count": 482,
   "metadata": {},
   "outputs": [],
   "source": [
    "features=[x for x in features_test if x in features_train]"
   ]
  },
  {
   "cell_type": "code",
   "execution_count": 483,
   "metadata": {},
   "outputs": [],
   "source": [
    "from sklearn.linear_model import Ridge\n",
    "from sklearn.linear_model import Lasso\n",
    "from sklearn.ensemble import GradientBoostingRegressor\n",
    "from xgboost import XGBRegressor\n",
    "from sklearn.metrics import mean_absolute_error, make_scorer"
   ]
  },
  {
   "cell_type": "code",
   "execution_count": 484,
   "metadata": {},
   "outputs": [],
   "source": [
    "# Características y objetivo\n",
    "X = train_data[features]\n",
    "y = train_data['Price_euros']\n",
    "\n",
    "# Dividir los datos en conjuntos de entrenamiento y validación\n",
    "X_train, X_val, y_train, y_val = train_test_split(X, y, test_size=0.2, random_state=42)\n",
    "\n",
    "# Escalar las características numéricas\n",
    "scaler = StandardScaler()\n",
    "num_features = ['Inches', 'Weight', 'SSD', 'HDD', 'Flash', 'Hybrid', 'num_pixels','GHz']\n",
    "X_train[num_features] = scaler.fit_transform(X_train[num_features])\n",
    "X_val[num_features] = scaler.transform(X_val[num_features])\n",
    "test_data[num_features] = scaler.transform(test_data[num_features])"
   ]
  },
  {
   "cell_type": "code",
   "execution_count": 485,
   "metadata": {},
   "outputs": [
    {
     "name": "stdout",
     "output_type": "stream",
     "text": [
      "Mean Absolute Error (MAE): 212.81946170192754\n"
     ]
    }
   ],
   "source": [
    "# Entrenar el modelo con Ridge\n",
    "model = Ridge(alpha=1.0)\n",
    "model.fit(X_train, y_train)\n",
    "\n",
    "# Predecir en el conjunto de validación\n",
    "y_pred = model.predict(X_val)\n",
    "\n",
    "# Evaluar el modelo utilizando MAE\n",
    "mae = mean_absolute_error(y_val, y_pred)\n",
    "print(f\"Mean Absolute Error (MAE): {mae}\")"
   ]
  },
  {
   "cell_type": "code",
   "execution_count": 486,
   "metadata": {},
   "outputs": [
    {
     "name": "stdout",
     "output_type": "stream",
     "text": [
      "Fitting 5 folds for each of 81 candidates, totalling 405 fits\n",
      "Mean Absolute Error (MAE): 185.42611693628643\n",
      "Best Parameters: {'max_depth': 20, 'min_samples_leaf': 1, 'min_samples_split': 2, 'n_estimators': 300}\n"
     ]
    }
   ],
   "source": [
    "from sklearn.ensemble import RandomForestRegressor\n",
    "from sklearn.model_selection import GridSearchCV\n",
    "\n",
    "# Definir el modelo\n",
    "rf = RandomForestRegressor(random_state=42)\n",
    "\n",
    "# Definir los parámetros para GridSearchCV\n",
    "param_grid = {\n",
    "    'n_estimators': [100, 200, 300],\n",
    "    'max_depth': [10, 20, 30],\n",
    "    'min_samples_split': [2, 5, 10],\n",
    "    'min_samples_leaf': [1, 2, 4]\n",
    "}\n",
    "\n",
    "# Crear el GridSearchCV\n",
    "scoring = make_scorer(mean_absolute_error, greater_is_better=False)\n",
    "grid_search = GridSearchCV(estimator=rf, param_grid=param_grid, cv=5, scoring=scoring, n_jobs=-1, verbose=2)\n",
    "\n",
    "# Entrenar el modelo\n",
    "grid_search.fit(X_train, y_train)\n",
    "\n",
    "# Mejor estimador\n",
    "best_rf = grid_search.best_estimator_\n",
    "\n",
    "# Predecir en el conjunto de validación\n",
    "y_pred = best_rf.predict(X_val)\n",
    "\n",
    "# Evaluar el modelo utilizando MAE\n",
    "mae = mean_absolute_error(y_val, y_pred)\n",
    "print(f\"Mean Absolute Error (MAE): {mae}\")\n",
    "print(f\"Best Parameters: {grid_search.best_params_}\")"
   ]
  },
  {
   "cell_type": "code",
   "execution_count": 487,
   "metadata": {},
   "outputs": [
    {
     "name": "stdout",
     "output_type": "stream",
     "text": [
      "Fitting 5 folds for each of 5 candidates, totalling 25 fits\n",
      "Mean Absolute Error (MAE) para Lasso: 209.82374323452467\n",
      "Mejores parámetros para Lasso: {'alpha': 1}\n"
     ]
    }
   ],
   "source": [
    "# Definir el modelo y los parámetros para GridSearchCV\n",
    "lasso = Lasso()\n",
    "param_grid_lasso = {\n",
    "    'alpha': [0.01, 0.1, 1, 10, 100]\n",
    "}\n",
    "\n",
    "# Crear y ajustar GridSearchCV\n",
    "scoring = make_scorer(mean_absolute_error, greater_is_better=False)\n",
    "grid_search_lasso = GridSearchCV(estimator=lasso, param_grid=param_grid_lasso, scoring=scoring, cv=5, n_jobs=-1, verbose=2)\n",
    "grid_search_lasso.fit(X_train, y_train)\n",
    "\n",
    "# Predecir en el conjunto de validación\n",
    "y_pred_lasso = grid_search_lasso.best_estimator_.predict(X_val)\n",
    "\n",
    "# Evaluar el modelo utilizando MAE\n",
    "mae_lasso = mean_absolute_error(y_val, y_pred_lasso)\n",
    "print(f\"Mean Absolute Error (MAE) para Lasso: {mae_lasso}\")\n",
    "print(f\"Mejores parámetros para Lasso: {grid_search_lasso.best_params_}\")"
   ]
  },
  {
   "cell_type": "code",
   "execution_count": 488,
   "metadata": {},
   "outputs": [
    {
     "name": "stdout",
     "output_type": "stream",
     "text": [
      "Fitting 5 folds for each of 81 candidates, totalling 405 fits\n",
      "Mean Absolute Error (MAE) para XGBRegressor: 169.30673118382856\n",
      "Mejores parámetros para XGBRegressor: {'learning_rate': 0.1, 'max_depth': 3, 'min_child_weight': 1, 'n_estimators': 300}\n"
     ]
    }
   ],
   "source": [
    "# Definir el modelo y los parámetros para GridSearchCV\n",
    "xgbr = XGBRegressor(objective='reg:squarederror', random_state=42)\n",
    "param_grid_xgbr = {\n",
    "    'n_estimators': [100, 200, 300],\n",
    "    'learning_rate': [0.01, 0.1, 0.05],\n",
    "    'max_depth': [3, 5, 7],\n",
    "    'min_child_weight': [1, 3, 5]\n",
    "}\n",
    "\n",
    "# Crear y ajustar GridSearchCV\n",
    "scoring = make_scorer(mean_absolute_error, greater_is_better=False)\n",
    "grid_search_xgbr = GridSearchCV(estimator=xgbr, param_grid=param_grid_xgbr, scoring=scoring, cv=5, n_jobs=-1, verbose=2)\n",
    "grid_search_xgbr.fit(X_train, y_train)\n",
    "\n",
    "# Predecir en el conjunto de validación\n",
    "y_pred_xgbr = grid_search_xgbr.best_estimator_.predict(X_val)\n",
    "\n",
    "# Evaluar el modelo utilizando MAE\n",
    "mae_xgbr = mean_absolute_error(y_val, y_pred_xgbr)\n",
    "print(f\"Mean Absolute Error (MAE) para XGBRegressor: {mae_xgbr}\")\n",
    "print(f\"Mejores parámetros para XGBRegressor: {grid_search_xgbr.best_params_}\")"
   ]
  },
  {
   "cell_type": "code",
   "execution_count": 489,
   "metadata": {},
   "outputs": [
    {
     "name": "stdout",
     "output_type": "stream",
     "text": [
      "Fitting 5 folds for each of 81 candidates, totalling 405 fits\n",
      "Mean Absolute Error (MAE) para GradientBoostingRegressor: 169.0274633664264\n",
      "Mejores parámetros para GradientBoostingRegressor: {'learning_rate': 0.1, 'max_depth': 3, 'min_samples_split': 5, 'n_estimators': 300}\n"
     ]
    }
   ],
   "source": [
    "from sklearn.ensemble import GradientBoostingRegressor\n",
    "\n",
    "# Definir el modelo y los parámetros para GridSearchCV\n",
    "gbr = GradientBoostingRegressor(random_state=42)\n",
    "param_grid_gbr = {\n",
    "    'n_estimators': [100, 200, 300],\n",
    "    'learning_rate': [0.01, 0.1, 0.05],\n",
    "    'max_depth': [3, 5, 7],\n",
    "    'min_samples_split': [2, 5, 10]\n",
    "}\n",
    "\n",
    "# Crear y ajustar GridSearchCV\n",
    "scoring = make_scorer(mean_absolute_error, greater_is_better=False)\n",
    "grid_search_gbr = GridSearchCV(estimator=gbr, param_grid=param_grid_gbr, scoring=scoring, cv=5, n_jobs=-1, verbose=2)\n",
    "grid_search_gbr.fit(X_train, y_train)\n",
    "\n",
    "# Predecir en el conjunto de validación\n",
    "y_pred_gbr = grid_search_gbr.best_estimator_.predict(X_val)\n",
    "\n",
    "# Evaluar el modelo utilizando MAE\n",
    "mae_gbr = mean_absolute_error(y_val, y_pred_gbr)\n",
    "print(f\"Mean Absolute Error (MAE) para GradientBoostingRegressor: {mae_gbr}\")\n",
    "print(f\"Mejores parámetros para GradientBoostingRegressor: {grid_search_gbr.best_params_}\")"
   ]
  },
  {
   "cell_type": "markdown",
   "metadata": {},
   "source": [
    "# Los mejores osn el de GradientBoosing y XGBRegressor"
   ]
  },
  {
   "cell_type": "code",
   "execution_count": 500,
   "metadata": {},
   "outputs": [],
   "source": [
    "# Predecir los precios utilizando el modelo GradientBoostingRegressor entrenado\n",
    "y_test_pred =  grid_search_gbr.best_estimator_.predict(test_data[features])"
   ]
  },
  {
   "cell_type": "code",
   "execution_count": 501,
   "metadata": {},
   "outputs": [],
   "source": [
    "predictions = pd.DataFrame({\n",
    "    'id': test_data.id,\n",
    "    'Price_euros': y_test_pred\n",
    "})\n"
   ]
  },
  {
   "cell_type": "code",
   "execution_count": 502,
   "metadata": {},
   "outputs": [
    {
     "data": {
      "text/html": [
       "<div>\n",
       "<style scoped>\n",
       "    .dataframe tbody tr th:only-of-type {\n",
       "        vertical-align: middle;\n",
       "    }\n",
       "\n",
       "    .dataframe tbody tr th {\n",
       "        vertical-align: top;\n",
       "    }\n",
       "\n",
       "    .dataframe thead th {\n",
       "        text-align: right;\n",
       "    }\n",
       "</style>\n",
       "<table border=\"1\" class=\"dataframe\">\n",
       "  <thead>\n",
       "    <tr style=\"text-align: right;\">\n",
       "      <th></th>\n",
       "      <th>id</th>\n",
       "      <th>Price_euros</th>\n",
       "    </tr>\n",
       "  </thead>\n",
       "  <tbody>\n",
       "    <tr>\n",
       "      <th>0</th>\n",
       "      <td>181</td>\n",
       "      <td>1629.474343</td>\n",
       "    </tr>\n",
       "    <tr>\n",
       "      <th>1</th>\n",
       "      <td>708</td>\n",
       "      <td>477.893211</td>\n",
       "    </tr>\n",
       "    <tr>\n",
       "      <th>2</th>\n",
       "      <td>862</td>\n",
       "      <td>364.760021</td>\n",
       "    </tr>\n",
       "    <tr>\n",
       "      <th>3</th>\n",
       "      <td>1064</td>\n",
       "      <td>1427.223067</td>\n",
       "    </tr>\n",
       "    <tr>\n",
       "      <th>4</th>\n",
       "      <td>702</td>\n",
       "      <td>1134.841767</td>\n",
       "    </tr>\n",
       "    <tr>\n",
       "      <th>...</th>\n",
       "      <td>...</td>\n",
       "      <td>...</td>\n",
       "    </tr>\n",
       "    <tr>\n",
       "      <th>386</th>\n",
       "      <td>1281</td>\n",
       "      <td>902.649584</td>\n",
       "    </tr>\n",
       "    <tr>\n",
       "      <th>387</th>\n",
       "      <td>524</td>\n",
       "      <td>2590.503424</td>\n",
       "    </tr>\n",
       "    <tr>\n",
       "      <th>388</th>\n",
       "      <td>1015</td>\n",
       "      <td>481.700516</td>\n",
       "    </tr>\n",
       "    <tr>\n",
       "      <th>389</th>\n",
       "      <td>1236</td>\n",
       "      <td>382.378363</td>\n",
       "    </tr>\n",
       "    <tr>\n",
       "      <th>390</th>\n",
       "      <td>1036</td>\n",
       "      <td>1545.941353</td>\n",
       "    </tr>\n",
       "  </tbody>\n",
       "</table>\n",
       "<p>391 rows × 2 columns</p>\n",
       "</div>"
      ],
      "text/plain": [
       "       id  Price_euros\n",
       "0     181  1629.474343\n",
       "1     708   477.893211\n",
       "2     862   364.760021\n",
       "3    1064  1427.223067\n",
       "4     702  1134.841767\n",
       "..    ...          ...\n",
       "386  1281   902.649584\n",
       "387   524  2590.503424\n",
       "388  1015   481.700516\n",
       "389  1236   382.378363\n",
       "390  1036  1545.941353\n",
       "\n",
       "[391 rows x 2 columns]"
      ]
     },
     "execution_count": 502,
     "metadata": {},
     "output_type": "execute_result"
    }
   ],
   "source": [
    "predictions"
   ]
  },
  {
   "cell_type": "markdown",
   "metadata": {},
   "source": [
    "# Comprobacion"
   ]
  },
  {
   "cell_type": "code",
   "execution_count": 493,
   "metadata": {},
   "outputs": [],
   "source": [
    "sample = pd.read_csv(\"Data/sample_submission.csv\") # Esta es mi ruta del archivo, la vuestra puede ser otra"
   ]
  },
  {
   "cell_type": "code",
   "execution_count": 494,
   "metadata": {},
   "outputs": [
    {
     "data": {
      "text/html": [
       "<div>\n",
       "<style scoped>\n",
       "    .dataframe tbody tr th:only-of-type {\n",
       "        vertical-align: middle;\n",
       "    }\n",
       "\n",
       "    .dataframe tbody tr th {\n",
       "        vertical-align: top;\n",
       "    }\n",
       "\n",
       "    .dataframe thead th {\n",
       "        text-align: right;\n",
       "    }\n",
       "</style>\n",
       "<table border=\"1\" class=\"dataframe\">\n",
       "  <thead>\n",
       "    <tr style=\"text-align: right;\">\n",
       "      <th></th>\n",
       "      <th>id</th>\n",
       "      <th>Price_euros</th>\n",
       "    </tr>\n",
       "  </thead>\n",
       "  <tbody>\n",
       "    <tr>\n",
       "      <th>0</th>\n",
       "      <td>181</td>\n",
       "      <td>1641.308838</td>\n",
       "    </tr>\n",
       "    <tr>\n",
       "      <th>1</th>\n",
       "      <td>708</td>\n",
       "      <td>492.278625</td>\n",
       "    </tr>\n",
       "    <tr>\n",
       "      <th>2</th>\n",
       "      <td>862</td>\n",
       "      <td>362.825958</td>\n",
       "    </tr>\n",
       "    <tr>\n",
       "      <th>3</th>\n",
       "      <td>1064</td>\n",
       "      <td>1420.324097</td>\n",
       "    </tr>\n",
       "    <tr>\n",
       "      <th>4</th>\n",
       "      <td>702</td>\n",
       "      <td>1026.438599</td>\n",
       "    </tr>\n",
       "  </tbody>\n",
       "</table>\n",
       "</div>"
      ],
      "text/plain": [
       "     id  Price_euros\n",
       "0   181  1641.308838\n",
       "1   708   492.278625\n",
       "2   862   362.825958\n",
       "3  1064  1420.324097\n",
       "4   702  1026.438599"
      ]
     },
     "execution_count": 494,
     "metadata": {},
     "output_type": "execute_result"
    }
   ],
   "source": [
    "predictions.head()"
   ]
  },
  {
   "cell_type": "code",
   "execution_count": 495,
   "metadata": {},
   "outputs": [
    {
     "data": {
      "text/plain": [
       "(391, 2)"
      ]
     },
     "execution_count": 495,
     "metadata": {},
     "output_type": "execute_result"
    }
   ],
   "source": [
    "predictions.shape"
   ]
  },
  {
   "cell_type": "code",
   "execution_count": 496,
   "metadata": {},
   "outputs": [],
   "source": [
    "import urllib\n",
    "from PIL import Image"
   ]
  },
  {
   "cell_type": "code",
   "execution_count": 503,
   "metadata": {},
   "outputs": [],
   "source": [
    "def chequeator(df_to_submit):\n",
    "    \"\"\"\n",
    "    Esta función se asegura de que tu submission tenga la forma requerida por Kaggle.\n",
    "    \n",
    "    Si es así, se guardará el dataframe en un `csv` y estará listo para subir a Kaggle.\n",
    "    \n",
    "    Si no, LEE EL MENSAJE Y HAZLE CASO.\n",
    "    \n",
    "    Si aún no:\n",
    "    - apaga tu ordenador, \n",
    "    - date una vuelta, \n",
    "    - enciendelo otra vez, \n",
    "    - abre este notebook y \n",
    "    - leelo todo de nuevo. \n",
    "    Todos nos merecemos una segunda oportunidad. También tú.\n",
    "    \"\"\"\n",
    "    if df_to_submit.shape == sample.shape:\n",
    "        if df_to_submit.columns.all() == sample.columns.all():\n",
    "            if df_to_submit.id.all() == sample.id.all():\n",
    "                print(\"You're ready to submit!\")\n",
    "                predictions.to_csv(\"submission3.csv\", index = False) #muy importante el index = False\n",
    "                urllib.request.urlretrieve(\"https://i.kym-cdn.com/photos/images/facebook/000/747/556/27a.jpg\", \"gfg.png\")     \n",
    "                img = Image.open(\"gfg.png\")\n",
    "                img.show()   \n",
    "            else:\n",
    "                print(\"Check the ids and try again\")\n",
    "        else:\n",
    "            print(\"Check the names of the columns and try again\")\n",
    "    else:\n",
    "        print(\"Check the number of rows and/or columns and try again\")\n",
    "        print(\"\")\n"
   ]
  },
  {
   "cell_type": "code",
   "execution_count": 498,
   "metadata": {},
   "outputs": [
    {
     "data": {
      "text/html": [
       "<div>\n",
       "<style scoped>\n",
       "    .dataframe tbody tr th:only-of-type {\n",
       "        vertical-align: middle;\n",
       "    }\n",
       "\n",
       "    .dataframe tbody tr th {\n",
       "        vertical-align: top;\n",
       "    }\n",
       "\n",
       "    .dataframe thead th {\n",
       "        text-align: right;\n",
       "    }\n",
       "</style>\n",
       "<table border=\"1\" class=\"dataframe\">\n",
       "  <thead>\n",
       "    <tr style=\"text-align: right;\">\n",
       "      <th></th>\n",
       "      <th>id</th>\n",
       "      <th>Price_euros</th>\n",
       "    </tr>\n",
       "  </thead>\n",
       "  <tbody>\n",
       "    <tr>\n",
       "      <th>0</th>\n",
       "      <td>181</td>\n",
       "      <td>1641.308838</td>\n",
       "    </tr>\n",
       "    <tr>\n",
       "      <th>1</th>\n",
       "      <td>708</td>\n",
       "      <td>492.278625</td>\n",
       "    </tr>\n",
       "    <tr>\n",
       "      <th>2</th>\n",
       "      <td>862</td>\n",
       "      <td>362.825958</td>\n",
       "    </tr>\n",
       "    <tr>\n",
       "      <th>3</th>\n",
       "      <td>1064</td>\n",
       "      <td>1420.324097</td>\n",
       "    </tr>\n",
       "    <tr>\n",
       "      <th>4</th>\n",
       "      <td>702</td>\n",
       "      <td>1026.438599</td>\n",
       "    </tr>\n",
       "    <tr>\n",
       "      <th>...</th>\n",
       "      <td>...</td>\n",
       "      <td>...</td>\n",
       "    </tr>\n",
       "    <tr>\n",
       "      <th>386</th>\n",
       "      <td>1281</td>\n",
       "      <td>929.346191</td>\n",
       "    </tr>\n",
       "    <tr>\n",
       "      <th>387</th>\n",
       "      <td>524</td>\n",
       "      <td>2393.245361</td>\n",
       "    </tr>\n",
       "    <tr>\n",
       "      <th>388</th>\n",
       "      <td>1015</td>\n",
       "      <td>477.365753</td>\n",
       "    </tr>\n",
       "    <tr>\n",
       "      <th>389</th>\n",
       "      <td>1236</td>\n",
       "      <td>365.958710</td>\n",
       "    </tr>\n",
       "    <tr>\n",
       "      <th>390</th>\n",
       "      <td>1036</td>\n",
       "      <td>1497.810303</td>\n",
       "    </tr>\n",
       "  </tbody>\n",
       "</table>\n",
       "<p>391 rows × 2 columns</p>\n",
       "</div>"
      ],
      "text/plain": [
       "       id  Price_euros\n",
       "0     181  1641.308838\n",
       "1     708   492.278625\n",
       "2     862   362.825958\n",
       "3    1064  1420.324097\n",
       "4     702  1026.438599\n",
       "..    ...          ...\n",
       "386  1281   929.346191\n",
       "387   524  2393.245361\n",
       "388  1015   477.365753\n",
       "389  1236   365.958710\n",
       "390  1036  1497.810303\n",
       "\n",
       "[391 rows x 2 columns]"
      ]
     },
     "execution_count": 498,
     "metadata": {},
     "output_type": "execute_result"
    }
   ],
   "source": [
    "predictions"
   ]
  },
  {
   "cell_type": "code",
   "execution_count": 504,
   "metadata": {},
   "outputs": [
    {
     "name": "stdout",
     "output_type": "stream",
     "text": [
      "You're ready to submit!\n"
     ]
    }
   ],
   "source": [
    "chequeator(predictions) # submission es el nombre que le habríamos puesto a nuestro .csv con los valores que me salieron en la predicción"
   ]
  },
  {
   "cell_type": "code",
   "execution_count": null,
   "metadata": {},
   "outputs": [],
   "source": []
  }
 ],
 "metadata": {
  "kernelspec": {
   "display_name": "Python 3",
   "language": "python",
   "name": "python3"
  },
  "language_info": {
   "codemirror_mode": {
    "name": "ipython",
    "version": 3
   },
   "file_extension": ".py",
   "mimetype": "text/x-python",
   "name": "python",
   "nbconvert_exporter": "python",
   "pygments_lexer": "ipython3",
   "version": "3.10.11"
  }
 },
 "nbformat": 4,
 "nbformat_minor": 2
}
