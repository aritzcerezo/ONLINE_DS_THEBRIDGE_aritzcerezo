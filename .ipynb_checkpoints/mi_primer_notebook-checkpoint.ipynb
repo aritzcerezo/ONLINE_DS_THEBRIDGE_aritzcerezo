{
 "cells": [
  {
   "cell_type": "code",
   "execution_count": 4,
   "id": "1eaae721-e77d-40be-a4b5-9e8c8c240a5a",
   "metadata": {},
   "outputs": [
    {
     "name": "stdout",
     "output_type": "stream",
     "text": [
      "Hola mundo\n"
     ]
    }
   ],
   "source": [
    "print(\"Hola mundo\")"
   ]
  },
  {
   "cell_type": "markdown",
   "id": "d898244b-e8e2-4fd9-a657-1453b359eb9c",
   "metadata": {},
   "source": [
    "Hola mundo"
   ]
  },
  {
   "cell_type": "code",
   "execution_count": null,
   "id": "4e2ae73f-bdd5-4876-8780-4d23ce6d5a77",
   "metadata": {},
   "outputs": [],
   "source": []
  }
 ],
 "metadata": {
  "kernelspec": {
   "display_name": "Python 3 (ipykernel)",
   "language": "python",
   "name": "python3"
  },
  "language_info": {
   "codemirror_mode": {
    "name": "ipython",
    "version": 3
   },
   "file_extension": ".py",
   "mimetype": "text/x-python",
   "name": "python",
   "nbconvert_exporter": "python",
   "pygments_lexer": "ipython3",
   "version": "3.10.11"
  }
 },
 "nbformat": 4,
 "nbformat_minor": 5
}
